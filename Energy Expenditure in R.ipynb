{
 "cells": [
  {
   "cell_type": "markdown",
   "metadata": {},
   "source": [
    "# Total Energy Expenditure by Mass Scatter Plot\n",
    "\n",
    "The plot that will be reproduced in this example is a log-log scatter plot of total energy expenditure (kcal/day) against mass (kg) as published by Pontzer et al. (2014) in PNAS (doi: [10.1073/pnas.1316940111](http://dx.doi.org/10.1073/pnas.1316940111)). Log-log plots of this sort are fairly common in biological anthropology, and this one has some of the common complications: multiple fitted lines, confidence intervals, different colored points for different groups, and some annotations.\n",
    "\n",
    "![](images/energyexpenditure_plot.png)\n",
    "\n",
    "The data underlying this plot are included in the supplementary material of the paper and have been extracted and made available in my bioanth datasets repository.\n",
    "\n",
    "## Some preliminaries\n",
    "\n",
    "First, I always change the R option for importing strings (I find that the default convert to factor causes more problems than it solves)."
   ]
  },
  {
   "cell_type": "code",
   "execution_count": 1,
   "metadata": {
    "collapsed": true
   },
   "outputs": [],
   "source": [
    "options(stringsAsFactors=F)"
   ]
  },
  {
   "cell_type": "markdown",
   "metadata": {},
   "source": [
    "Next, import the data. The resulting data frame has five variables: species, order, captive, mass (in kg), and tee (total energy expenditure in kcal/day)."
   ]
  },
  {
   "cell_type": "code",
   "execution_count": 16,
   "metadata": {
    "collapsed": false
   },
   "outputs": [
    {
     "name": "stdout",
     "output_type": "stream",
     "text": [
      "'data.frame':\t86 obs. of  5 variables:\n",
      " $ species: chr  \"Microcebus_murinus\" \"Lepilemur_ruficaudatus\" \"Eulemur\" \"Lemur_catta\" ...\n",
      " $ order  : chr  \"Primates\" \"Primates\" \"Primates\" \"Primates\" ...\n",
      " $ captive: chr  \"no\" \"no\" \"no\" \"no\" ...\n",
      " $ mass   : num  0.064 0.77 1.84 2.24 2.21 4.9 7.12 12 72.2 46.6 ...\n",
      " $ tee    : num  28 121 146 146 217 ...\n"
     ]
    }
   ],
   "source": [
    "dset = read.csv(url(\"https://raw.githubusercontent.com/ryanraaum/bioanth-datasets/master/raw/energyexpenditure.csv\"))\n",
    "str(dset)"
   ]
  },
  {
   "cell_type": "markdown",
   "metadata": {
    "collapsed": false
   },
   "source": [
    "Because the target plot shows primates in red and nonprimates in black, it will be useful to have a variable for this color difference. In addition, the nonprimates and the non-captive primates have filled circles while the captive primates have non-filled ones, so a variable for this will be useful as well."
   ]
  },
  {
   "cell_type": "code",
   "execution_count": 13,
   "metadata": {
    "collapsed": false
   },
   "outputs": [
    {
     "data": {
      "text/plain": [
       "point_color\n",
       "black   red \n",
       "   67    19 "
      ]
     },
     "execution_count": 13,
     "metadata": {},
     "output_type": "execute_result"
    }
   ],
   "source": [
    "point_color = ifelse(dset$order == \"Primates\", \"red\", \"black\")\n",
    "table(point_color)"
   ]
  },
  {
   "cell_type": "markdown",
   "metadata": {},
   "source": [
    "Because there are missing data in the `captive` variable (unknown/missing for the nonprimates), the fill factor has to be constructed a little differently."
   ]
  },
  {
   "cell_type": "code",
   "execution_count": 15,
   "metadata": {
    "collapsed": false
   },
   "outputs": [
    {
     "data": {
      "text/plain": [
       "point_fill\n",
       "fill open \n",
       "  78    8 "
      ]
     },
     "execution_count": 15,
     "metadata": {},
     "output_type": "execute_result"
    }
   ],
   "source": [
    "point_fill = rep(\"fill\", nrow(dset))\n",
    "point_fill[dset$captive == \"no\"] = \"open\"\n",
    "table(point_fill)"
   ]
  }
 ],
 "metadata": {
  "kernelspec": {
   "display_name": "R",
   "language": "R",
   "name": "ir"
  },
  "language_info": {
   "codemirror_mode": "r",
   "file_extension": ".r",
   "mimetype": "text/x-r-source",
   "name": "R",
   "pygments_lexer": "r",
   "version": "3.2.3"
  }
 },
 "nbformat": 4,
 "nbformat_minor": 0
}
